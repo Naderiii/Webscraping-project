{
 "cells": [
  {
   "cell_type": "markdown",
   "id": "50c07844",
   "metadata": {},
   "source": [
    "# Import the required libraries and modules"
   ]
  },
  {
   "cell_type": "code",
   "execution_count": 1,
   "id": "33bb4e8c",
   "metadata": {},
   "outputs": [],
   "source": [
    "\n",
    "from selenium import webdriver\n",
    "from selenium.webdriver.common.by import By\n",
    "from selenium.webdriver.chrome.service import Service\n",
    "\n",
    "from selenium.webdriver.support.ui import WebDriverWait\n",
    "from selenium.webdriver.support import expected_conditions as EC\n",
    "\n",
    "import pandas as pd\n",
    "import time\n"
   ]
  },
  {
   "cell_type": "markdown",
   "id": "faa65416",
   "metadata": {},
   "source": [
    "# Setup and Start"
   ]
  },
  {
   "cell_type": "code",
   "execution_count": 2,
   "id": "3577dd79",
   "metadata": {},
   "outputs": [],
   "source": [
    "\n",
    "start_time = time.time()\n",
    "\n",
    "url = \"https://www.adamchoi.co.uk/overs/detailed\"\n",
    "s = Service(\"chromedriver-win32/chromedriver\")\n",
    "\n",
    "driver = webdriver.Chrome(service = s)\n",
    "driver.get(url)\n",
    "time.sleep(3)\n"
   ]
  },
  {
   "cell_type": "code",
   "execution_count": 3,
   "id": "d5d4741d",
   "metadata": {},
   "outputs": [],
   "source": [
    "\n",
    "# Find and click matches button\n",
    "\n",
    "all_matches_button = driver.find_element(By.XPATH, value = '//label [@analytics-event = \"All matches\"]')\n",
    "all_matches_button.click()\n"
   ]
  },
  {
   "cell_type": "markdown",
   "id": "4542e2f8",
   "metadata": {},
   "source": [
    "# Extract data from table"
   ]
  },
  {
   "cell_type": "code",
   "execution_count": 26,
   "id": "befdaca8",
   "metadata": {},
   "outputs": [],
   "source": [
    "\n",
    "# we have multiple rows so use element(s) and for loop\n",
    "\n",
    "date = []\n",
    "home_team = []\n",
    "score = []\n",
    "away_team = []\n",
    "\n",
    "matches = driver.find_elements(By.TAG_NAME , value = \"tr\")\n",
    "\n",
    "for match in matches:\n",
    "    date.append(match.find_element(By.XPATH , value = \"./td[1]\").text)\n",
    "    home_team.append(match.find_element(By.XPATH , value = \"./td[2]\").text)\n",
    "    score.append(match.find_element(By.XPATH , value = \"./td[3]\").text)\n",
    "    away_team.append(match.find_element(By.XPATH , value = \"./td[4]\").text)\n",
    "    \n",
    "# print(date)\n",
    "    "
   ]
  },
  {
   "cell_type": "code",
   "execution_count": 32,
   "id": "610c107a",
   "metadata": {},
   "outputs": [
    {
     "data": {
      "text/html": [
       "<div>\n",
       "<style scoped>\n",
       "    .dataframe tbody tr th:only-of-type {\n",
       "        vertical-align: middle;\n",
       "    }\n",
       "\n",
       "    .dataframe tbody tr th {\n",
       "        vertical-align: top;\n",
       "    }\n",
       "\n",
       "    .dataframe thead th {\n",
       "        text-align: right;\n",
       "    }\n",
       "</style>\n",
       "<table border=\"1\" class=\"dataframe\">\n",
       "  <thead>\n",
       "    <tr style=\"text-align: right;\">\n",
       "      <th></th>\n",
       "      <th>date</th>\n",
       "      <th>home_team</th>\n",
       "      <th>score</th>\n",
       "      <th>away_team</th>\n",
       "    </tr>\n",
       "  </thead>\n",
       "  <tbody>\n",
       "    <tr>\n",
       "      <th>0</th>\n",
       "      <td>05-08-2022</td>\n",
       "      <td>Crystal Palace</td>\n",
       "      <td>0 - 2</td>\n",
       "      <td>Arsenal</td>\n",
       "    </tr>\n",
       "    <tr>\n",
       "      <th>1</th>\n",
       "      <td>13-08-2022</td>\n",
       "      <td>Arsenal</td>\n",
       "      <td>4 - 2</td>\n",
       "      <td>Leicester</td>\n",
       "    </tr>\n",
       "    <tr>\n",
       "      <th>2</th>\n",
       "      <td>20-08-2022</td>\n",
       "      <td>Bournemouth</td>\n",
       "      <td>0 - 3</td>\n",
       "      <td>Arsenal</td>\n",
       "    </tr>\n",
       "    <tr>\n",
       "      <th>3</th>\n",
       "      <td>27-08-2022</td>\n",
       "      <td>Arsenal</td>\n",
       "      <td>2 - 1</td>\n",
       "      <td>Fulham</td>\n",
       "    </tr>\n",
       "    <tr>\n",
       "      <th>4</th>\n",
       "      <td>31-08-2022</td>\n",
       "      <td>Arsenal</td>\n",
       "      <td>2 - 1</td>\n",
       "      <td>Aston Villa</td>\n",
       "    </tr>\n",
       "    <tr>\n",
       "      <th>...</th>\n",
       "      <td>...</td>\n",
       "      <td>...</td>\n",
       "      <td>...</td>\n",
       "      <td>...</td>\n",
       "    </tr>\n",
       "    <tr>\n",
       "      <th>755</th>\n",
       "      <td>29-04-2023</td>\n",
       "      <td>Brighton</td>\n",
       "      <td>6 - 0</td>\n",
       "      <td>Wolves</td>\n",
       "    </tr>\n",
       "    <tr>\n",
       "      <th>756</th>\n",
       "      <td>06-05-2023</td>\n",
       "      <td>Wolves</td>\n",
       "      <td>1 - 0</td>\n",
       "      <td>Aston Villa</td>\n",
       "    </tr>\n",
       "    <tr>\n",
       "      <th>757</th>\n",
       "      <td>13-05-2023</td>\n",
       "      <td>Man United</td>\n",
       "      <td>2 - 0</td>\n",
       "      <td>Wolves</td>\n",
       "    </tr>\n",
       "    <tr>\n",
       "      <th>758</th>\n",
       "      <td>20-05-2023</td>\n",
       "      <td>Wolves</td>\n",
       "      <td>1 - 1</td>\n",
       "      <td>Everton</td>\n",
       "    </tr>\n",
       "    <tr>\n",
       "      <th>759</th>\n",
       "      <td>28-05-2023</td>\n",
       "      <td>Arsenal</td>\n",
       "      <td>5 - 0</td>\n",
       "      <td>Wolves</td>\n",
       "    </tr>\n",
       "  </tbody>\n",
       "</table>\n",
       "<p>760 rows × 4 columns</p>\n",
       "</div>"
      ],
      "text/plain": [
       "           date       home_team  score    away_team\n",
       "0    05-08-2022  Crystal Palace  0 - 2      Arsenal\n",
       "1    13-08-2022         Arsenal  4 - 2    Leicester\n",
       "2    20-08-2022     Bournemouth  0 - 3      Arsenal\n",
       "3    27-08-2022         Arsenal  2 - 1       Fulham\n",
       "4    31-08-2022         Arsenal  2 - 1  Aston Villa\n",
       "..          ...             ...    ...          ...\n",
       "755  29-04-2023        Brighton  6 - 0       Wolves\n",
       "756  06-05-2023          Wolves  1 - 0  Aston Villa\n",
       "757  13-05-2023      Man United  2 - 0       Wolves\n",
       "758  20-05-2023          Wolves  1 - 1      Everton\n",
       "759  28-05-2023         Arsenal  5 - 0       Wolves\n",
       "\n",
       "[760 rows x 4 columns]"
      ]
     },
     "execution_count": 32,
     "metadata": {},
     "output_type": "execute_result"
    }
   ],
   "source": [
    "df = pd.DataFrame(data = {\"date\": date, \"home_team\": home_team ,\"score\": score, \"away_team\": away_team})\n",
    "df"
   ]
  },
  {
   "cell_type": "code",
   "execution_count": 33,
   "id": "e7473123",
   "metadata": {},
   "outputs": [],
   "source": [
    "df.to_csv(\"football_data.csv\", index= False)"
   ]
  }
 ],
 "metadata": {
  "kernelspec": {
   "display_name": "Python 3 (ipykernel)",
   "language": "python",
   "name": "python3"
  },
  "language_info": {
   "codemirror_mode": {
    "name": "ipython",
    "version": 3
   },
   "file_extension": ".py",
   "mimetype": "text/x-python",
   "name": "python",
   "nbconvert_exporter": "python",
   "pygments_lexer": "ipython3",
   "version": "3.11.2"
  }
 },
 "nbformat": 4,
 "nbformat_minor": 5
}
